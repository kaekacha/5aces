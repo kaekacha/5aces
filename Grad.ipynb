{
 "metadata": {
  "language_info": {
   "codemirror_mode": {
    "name": "ipython",
    "version": 3
   },
   "file_extension": ".py",
   "mimetype": "text/x-python",
   "name": "python",
   "nbconvert_exporter": "python",
   "pygments_lexer": "ipython3",
   "version": "3.8.5"
  },
  "orig_nbformat": 2,
  "kernelspec": {
   "name": "python385jvsc74a57bd0fd67e6b1169f95e39aec8da660fd745774152eeffd80e8c856f0fbbda051db73",
   "display_name": "Python 3.8.5 64-bit ('base': conda)"
  }
 },
 "nbformat": 4,
 "nbformat_minor": 2,
 "cells": [
  {
   "cell_type": "code",
   "execution_count": 2,
   "metadata": {},
   "outputs": [],
   "source": [
    "import pandas as pd \n",
    "import matplotlib\n"
   ]
  },
  {
   "cell_type": "code",
   "execution_count": 7,
   "metadata": {},
   "outputs": [
    {
     "output_type": "execute_result",
     "data": {
      "text/plain": [
       "  school_year aggregation_type        county_name        school_name  \\\n",
       "0     2019-20         District     Lowndes County  All Column Values   \n",
       "1     2019-20         District  Taliaferro County  All Column Values   \n",
       "2     2019-20         District       White County  All Column Values   \n",
       "3     2019-20         District       Calhoun City  All Column Values   \n",
       "4     2019-20         District  Cartersville City  All Column Values   \n",
       "\n",
       "                 subgroup_name  enroll_cnt  grad_cnt  drop_cnt  grad_pct  \\\n",
       "0       Asian/Pacific Islander          10        10         0       1.0   \n",
       "1  Students without Disability          10        10         0       1.0   \n",
       "2                     Hispanic          10        10         0       1.0   \n",
       "3       Asian/Pacific Islander          10        10         0       1.0   \n",
       "4                  Multiracial          10        10         0       1.0   \n",
       "\n",
       "   drop_pct  \n",
       "0       0.0  \n",
       "1       0.0  \n",
       "2       0.0  \n",
       "3       0.0  \n",
       "4       0.0  "
      ],
      "text/html": "<div>\n<style scoped>\n    .dataframe tbody tr th:only-of-type {\n        vertical-align: middle;\n    }\n\n    .dataframe tbody tr th {\n        vertical-align: top;\n    }\n\n    .dataframe thead th {\n        text-align: right;\n    }\n</style>\n<table border=\"1\" class=\"dataframe\">\n  <thead>\n    <tr style=\"text-align: right;\">\n      <th></th>\n      <th>school_year</th>\n      <th>aggregation_type</th>\n      <th>county_name</th>\n      <th>school_name</th>\n      <th>subgroup_name</th>\n      <th>enroll_cnt</th>\n      <th>grad_cnt</th>\n      <th>drop_cnt</th>\n      <th>grad_pct</th>\n      <th>drop_pct</th>\n    </tr>\n  </thead>\n  <tbody>\n    <tr>\n      <th>0</th>\n      <td>2019-20</td>\n      <td>District</td>\n      <td>Lowndes County</td>\n      <td>All Column Values</td>\n      <td>Asian/Pacific Islander</td>\n      <td>10</td>\n      <td>10</td>\n      <td>0</td>\n      <td>1.0</td>\n      <td>0.0</td>\n    </tr>\n    <tr>\n      <th>1</th>\n      <td>2019-20</td>\n      <td>District</td>\n      <td>Taliaferro County</td>\n      <td>All Column Values</td>\n      <td>Students without Disability</td>\n      <td>10</td>\n      <td>10</td>\n      <td>0</td>\n      <td>1.0</td>\n      <td>0.0</td>\n    </tr>\n    <tr>\n      <th>2</th>\n      <td>2019-20</td>\n      <td>District</td>\n      <td>White County</td>\n      <td>All Column Values</td>\n      <td>Hispanic</td>\n      <td>10</td>\n      <td>10</td>\n      <td>0</td>\n      <td>1.0</td>\n      <td>0.0</td>\n    </tr>\n    <tr>\n      <th>3</th>\n      <td>2019-20</td>\n      <td>District</td>\n      <td>Calhoun City</td>\n      <td>All Column Values</td>\n      <td>Asian/Pacific Islander</td>\n      <td>10</td>\n      <td>10</td>\n      <td>0</td>\n      <td>1.0</td>\n      <td>0.0</td>\n    </tr>\n    <tr>\n      <th>4</th>\n      <td>2019-20</td>\n      <td>District</td>\n      <td>Cartersville City</td>\n      <td>All Column Values</td>\n      <td>Multiracial</td>\n      <td>10</td>\n      <td>10</td>\n      <td>0</td>\n      <td>1.0</td>\n      <td>0.0</td>\n    </tr>\n  </tbody>\n</table>\n</div>"
     },
     "metadata": {},
     "execution_count": 7
    }
   ],
   "source": [
    "gaGar = \"data/georgia_GRAD_RATES.csv\"\n",
    "nyGar = \"data/NYS_GRAD_RATES.csv\"\n",
    "\n",
    "gaGar_df = pd.read_csv(gaGar)\n",
    "\n",
    "gaGar_df.head()"
   ]
  },
  {
   "cell_type": "code",
   "execution_count": null,
   "metadata": {},
   "outputs": [],
   "source": []
  }
 ]
}